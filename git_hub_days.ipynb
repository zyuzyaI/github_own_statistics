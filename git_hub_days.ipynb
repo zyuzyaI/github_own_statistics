{
  "nbformat": 4,
  "nbformat_minor": 0,
  "metadata": {
    "colab": {
      "name": "git_hub_days.ipynb",
      "provenance": []
    },
    "kernelspec": {
      "name": "python3",
      "display_name": "Python 3"
    }
  },
  "cells": [
    {
      "cell_type": "code",
      "metadata": {
        "id": "ta2TV5oQlPTw",
        "colab_type": "code",
        "colab": {}
      },
      "source": [
        "import matplotlib.pyplot as plt \n",
        "from bs4 import BeautifulSoup \n",
        "import pandas as pd\n",
        "import numpy as np\n",
        "import requests \n",
        "import datetime"
      ],
      "execution_count": 0,
      "outputs": []
    },
    {
      "cell_type": "code",
      "metadata": {
        "id": "VKEEFBctDTGf",
        "colab_type": "code",
        "colab": {}
      },
      "source": [
        "user_name = \"zyuzyaI\" # User name on github"
      ],
      "execution_count": 0,
      "outputs": []
    },
    {
      "cell_type": "code",
      "metadata": {
        "id": "LVuTddC6aaJx",
        "colab_type": "code",
        "colab": {}
      },
      "source": [
        "# Function create and return data\n",
        "def get_data(user_name):\n",
        "    html = requests.get(\"https://github.com/\" + user_name)\n",
        "    if html.status_code != 200:\n",
        "        print(\"[INFO] Sorry but this response do not have data. Check your user name.\")\n",
        "        return None\n",
        "\n",
        "    soup = BeautifulSoup(html.text, \"lxml\")\n",
        "    svg = soup.find(\"g\").find_all(\"g\")\n",
        "    all_activity = [[i[\"data-date\"], i[\"data-count\"]] for j in svg for i in j.find_all(\"rect\")]\n",
        "    \n",
        "    number_days = len(all_activity)\n",
        "    print(\"[INFO] There are days {}\".format(number_days))\n",
        "\n",
        "    #datetime.datetime(*[int(date) for date  in all_activity[1][0].split(\"-\")]).weekday()\n",
        "    data = []\n",
        "    for i, d in enumerate(all_activity):\n",
        "        week_day = datetime.datetime(*[int(date) for date in d[0].split(\"-\")]).weekday()\n",
        "        data.append((week_day, d[1], d[0]))\n",
        "    \n",
        "    return pd.DataFrame(np.array(data), columns=[\"week_day\", \"contribution\", \"date\"])"
      ],
      "execution_count": 0,
      "outputs": []
    },
    {
      "cell_type": "code",
      "metadata": {
        "id": "d4IIeSBgFafU",
        "colab_type": "code",
        "colab": {
          "base_uri": "https://localhost:8080/",
          "height": 156
        },
        "outputId": "f421dbca-1cfe-43f2-cf40-330a007b5eec"
      },
      "source": [
        "df = get_data(user_name)\n",
        "df[\"contribution\"] = df.contribution.astype(int)\n",
        "print(\"[INFO] Data shape {}\".format(df.shape))\n",
        "print(df.head())"
      ],
      "execution_count": 4,
      "outputs": [
        {
          "output_type": "stream",
          "text": [
            "[INFO] There are days 366\n",
            "[INFO] Data shape (366, 3)\n",
            "  week_day  contribution        date\n",
            "0        6             0  2019-05-12\n",
            "1        0             0  2019-05-13\n",
            "2        1             0  2019-05-14\n",
            "3        2             0  2019-05-15\n",
            "4        3             0  2019-05-16\n"
          ],
          "name": "stdout"
        }
      ]
    },
    {
      "cell_type": "code",
      "metadata": {
        "id": "jgXxhnIHFaZG",
        "colab_type": "code",
        "colab": {
          "base_uri": "https://localhost:8080/",
          "height": 156
        },
        "outputId": "7b3ef4dd-9a5e-439b-c1b3-a9d872438cdb"
      },
      "source": [
        "all_days = df.shape[0]\n",
        "\n",
        "all_contribution = sum(df.contribution)\n",
        "print(\"[INFO] All contributions {}\".format(all_contribution))\n",
        "print(\"---------------------------------------------------------\")\n",
        "n_contribution = df[df.contribution != 0].shape[0]\n",
        "print(\"[INFO] Number of days with activity {}\".format(n_contribution))\n",
        "print(\"---------------------------------------------------------\")\n",
        "print(\"\\t\\t\\tDay with max activity\")\n",
        "print(df[df.contribution == max(df.contribution)])\n",
        "print(\"---------------------------------------------------------\")"
      ],
      "execution_count": 5,
      "outputs": [
        {
          "output_type": "stream",
          "text": [
            "[INFO] All contributions 364\n",
            "---------------------------------------------------------\n",
            "[INFO] Number of days with activity 113\n",
            "---------------------------------------------------------\n",
            "\t\t\tDay with max activity\n",
            "    week_day  contribution        date\n",
            "330        0            12  2020-04-06\n",
            "---------------------------------------------------------\n"
          ],
          "name": "stdout"
        }
      ]
    },
    {
      "cell_type": "code",
      "metadata": {
        "id": "sQUgW3CEFaU_",
        "colab_type": "code",
        "colab": {
          "base_uri": "https://localhost:8080/",
          "height": 87
        },
        "outputId": "e0bdb422-f0cd-4039-cea9-1f7034127e44"
      },
      "source": [
        "print(\"[INFO] Mean contribution (all days) {}\".format(df.contribution.mean()))\n",
        "print(\"---------------------------------------------------------\")\n",
        "print(\"[INFO] Mean contribution (days with activity) {}\".format(all_contribution/n_contribution))\n",
        "print(\"---------------------------------------------------------\")"
      ],
      "execution_count": 6,
      "outputs": [
        {
          "output_type": "stream",
          "text": [
            "[INFO] Mean contribution (all days) 0.994535519125683\n",
            "---------------------------------------------------------\n",
            "[INFO] Mean contribution (days with activity) 3.2212389380530975\n",
            "---------------------------------------------------------\n"
          ],
          "name": "stdout"
        }
      ]
    },
    {
      "cell_type": "code",
      "metadata": {
        "id": "n3muuuCsX1iN",
        "colab_type": "code",
        "colab": {
          "base_uri": "https://localhost:8080/",
          "height": 173
        },
        "outputId": "5733f866-0b78-43da-e3df-7965d6df6f74"
      },
      "source": [
        "data_vis = df.groupby([\"week_day\"]).sum()\n",
        "print(data_vis)"
      ],
      "execution_count": 7,
      "outputs": [
        {
          "output_type": "stream",
          "text": [
            "          contribution\n",
            "week_day              \n",
            "0                   66\n",
            "1                   43\n",
            "2                   41\n",
            "3                   47\n",
            "4                   77\n",
            "5                   45\n",
            "6                   45\n"
          ],
          "name": "stdout"
        }
      ]
    },
    {
      "cell_type": "code",
      "metadata": {
        "id": "aVSt2TRGg3X7",
        "colab_type": "code",
        "colab": {
          "base_uri": "https://localhost:8080/",
          "height": 274
        },
        "outputId": "8cc8a659-b148-44c9-e702-ff5f1c3f059d"
      },
      "source": [
        "height = [i[0] for i in data_vis.values] \n",
        "\n",
        "# Create bars\n",
        "barWidth = 0.9\n",
        "bars1 = height[::2]\n",
        "bars2 = height[1::2]\n",
        "bars4 = bars1 + bars2 \n",
        "\n",
        "# The X position of bars\n",
        "height = [i[0] for i in data_vis.values]\n",
        "r1 =  list(range(0,7,2))\n",
        "r2 =  list(range(1,7,2))\n",
        "r4 = r1 + r2\n",
        "\n",
        "plt.bar(r1, bars1, width = barWidth, color = ((0.3,0.8,0.4,0.6)))\n",
        "plt.bar(r2, bars2, width = barWidth, color = (0.3,0.3,0.4,0.6))\n",
        "# Note: the barplot could be created easily. See the barplot section for other examples.\n",
        "\n",
        "# Text below each barplot\n",
        "plt.xticks([r  for r in range(len(r4))], ['Mon', 'Tue', 'Wed', 'Thu', 'Fri', 'Sat', 'Sun'])\n",
        "\n",
        "# Text on the top of each barplot\n",
        "for i in range(len(r4)):\n",
        "    plt.text(x = r4[i]-0.3, y = bars4[i]+0.1, s = bars4[i], size = 14)\n",
        " \n",
        "# Adjust the margins\n",
        "plt.subplots_adjust(bottom= 0.2, top = 0.98)\n",
        " \n",
        "# Show graphic\n",
        "plt.show()"
      ],
      "execution_count": 8,
      "outputs": [
        {
          "output_type": "display_data",
          "data": {
            "image/png": "[encoded data removed]",
            "text/plain": [
              "<Figure size 432x288 with 1 Axes>"
            ]
          },
          "metadata": {
            "tags": [],
            "needs_background": "light"
          }
        }
      ]
    },
    {
      "cell_type": "code",
      "metadata": {
        "id": "NU7g9dp4Zjnc",
        "colab_type": "code",
        "colab": {}
      },
      "source": [
        ""
      ],
      "execution_count": 0,
      "outputs": []
    }
  ]
}